{
 "cells": [
  {
   "cell_type": "code",
   "execution_count": 137,
   "id": "f6d239b0",
   "metadata": {},
   "outputs": [],
   "source": [
    "import pandas as pd\n",
    "import os\n",
    "import numpy as np\n",
    "import glob\n",
    "import matplotlib.pyplot as plt\n"
   ]
  },
  {
   "cell_type": "code",
   "execution_count": 138,
   "id": "be88dcda",
   "metadata": {},
   "outputs": [],
   "source": [
    "root_path = 'D:\\\\Career\\\\Hackathons\\\\Ocean_Dimitra_Bounty'\n",
    "crop_statistics_path = os.path.join(root_path, 'Input', 'DISTRICT WISE CROP STATISTICS MADHYA PRADESH')\n"
   ]
  },
  {
   "cell_type": "code",
   "execution_count": 139,
   "id": "ea4b9e32",
   "metadata": {},
   "outputs": [],
   "source": [
    "crop_statistics_filename = os.path.join(crop_statistics_path,'DISTRICT_WISE_CROP_STATISTICS.xlsx')\n",
    "crop_statistics_df = pd.read_excel(crop_statistics_filename, sheet_name=0, skiprows=[0,1,3])"
   ]
  },
  {
   "cell_type": "code",
   "execution_count": 140,
   "id": "dc216d5f",
   "metadata": {},
   "outputs": [],
   "source": [
    "rename_dict = {'State/Crop/District':'district'\n",
    "               , 'Area (Hectare)':'area_hectare'\n",
    "               , 'Production (Tonnes)':'production_tonnes'\n",
    "               , 'Yield (Tonnes/Hectare)':'yield_tph'}\n",
    "crop_statistics_df.rename(columns=rename_dict, inplace=True)\n",
    "crop_statistics_df.columns = crop_statistics_df.columns.str.lower()"
   ]
  },
  {
   "cell_type": "code",
   "execution_count": 141,
   "id": "86c077b1",
   "metadata": {},
   "outputs": [],
   "source": [
    "crop_statistics_df['crop'] = np.NaN\n",
    "crop_statistics_df_copy = crop_statistics_df.copy()"
   ]
  },
  {
   "cell_type": "code",
   "execution_count": 142,
   "id": "8f8222eb",
   "metadata": {},
   "outputs": [],
   "source": [
    "for idx1, row1 in crop_statistics_df_copy.iterrows():\n",
    "    if 'Total' in str(row1['district']):\n",
    "        crop_statistics_df = crop_statistics_df.drop(idx1)\n",
    "        continue\n",
    "    if 'Total' in str(row1['season']):\n",
    "        crop_statistics_df = crop_statistics_df.drop(idx1)\n",
    "        continue\n",
    "    \n",
    "    if row1.isna().sum() > 4:\n",
    "        crop_statistics_df.loc[crop_statistics_df.index>idx1, 'crop'] = row1['district']\n",
    "        crop_statistics_df = crop_statistics_df.drop(idx1)\n",
    "        \n",
    "crop_statistics_df = crop_statistics_df.fillna(method='ffill')"
   ]
  },
  {
   "cell_type": "code",
   "execution_count": 143,
   "id": "67b89a74",
   "metadata": {},
   "outputs": [],
   "source": [
    "crop_statistics_df.loc[crop_statistics_df['yield_tph']=='Bales/Hectare', 'yield_tph'] = 0\n",
    "crop_statistics_df.loc[crop_statistics_df['production_tonnes']=='Bales*', 'production_tonnes'] = 0\n",
    "\n",
    "crop_statistics_df = crop_statistics_df.astype({'area_hectare':float, 'production_tonnes':float, 'yield_tph':float})\n",
    "\n",
    "crop_statistics_df['district'] = crop_statistics_df['district'].str.split('.').str[1]\n"
   ]
  },
  {
   "cell_type": "code",
   "execution_count": 144,
   "id": "195aee80",
   "metadata": {},
   "outputs": [
    {
     "data": {
      "text/html": [
       "<div>\n",
       "<style scoped>\n",
       "    .dataframe tbody tr th:only-of-type {\n",
       "        vertical-align: middle;\n",
       "    }\n",
       "\n",
       "    .dataframe tbody tr th {\n",
       "        vertical-align: top;\n",
       "    }\n",
       "\n",
       "    .dataframe thead th {\n",
       "        text-align: right;\n",
       "    }\n",
       "</style>\n",
       "<table border=\"1\" class=\"dataframe\">\n",
       "  <thead>\n",
       "    <tr style=\"text-align: right;\">\n",
       "      <th></th>\n",
       "      <th>area_hectare</th>\n",
       "      <th>production_tonnes</th>\n",
       "      <th>yield_tph</th>\n",
       "    </tr>\n",
       "  </thead>\n",
       "  <tbody>\n",
       "    <tr>\n",
       "      <th>count</th>\n",
       "      <td>29909.000000</td>\n",
       "      <td>2.990900e+04</td>\n",
       "      <td>29909.000000</td>\n",
       "    </tr>\n",
       "    <tr>\n",
       "      <th>mean</th>\n",
       "      <td>16453.945316</td>\n",
       "      <td>2.741738e+04</td>\n",
       "      <td>3.660036</td>\n",
       "    </tr>\n",
       "    <tr>\n",
       "      <th>std</th>\n",
       "      <td>43729.565909</td>\n",
       "      <td>9.495561e+04</td>\n",
       "      <td>8.075567</td>\n",
       "    </tr>\n",
       "    <tr>\n",
       "      <th>min</th>\n",
       "      <td>1.000000</td>\n",
       "      <td>0.000000e+00</td>\n",
       "      <td>0.000000</td>\n",
       "    </tr>\n",
       "    <tr>\n",
       "      <th>25%</th>\n",
       "      <td>97.000000</td>\n",
       "      <td>1.150000e+02</td>\n",
       "      <td>0.455556</td>\n",
       "    </tr>\n",
       "    <tr>\n",
       "      <th>50%</th>\n",
       "      <td>976.000000</td>\n",
       "      <td>1.300000e+03</td>\n",
       "      <td>0.940000</td>\n",
       "    </tr>\n",
       "    <tr>\n",
       "      <th>75%</th>\n",
       "      <td>8464.000000</td>\n",
       "      <td>1.044100e+04</td>\n",
       "      <td>2.000000</td>\n",
       "    </tr>\n",
       "    <tr>\n",
       "      <th>max</th>\n",
       "      <td>537610.000000</td>\n",
       "      <td>4.018000e+06</td>\n",
       "      <td>138.421053</td>\n",
       "    </tr>\n",
       "  </tbody>\n",
       "</table>\n",
       "</div>"
      ],
      "text/plain": [
       "        area_hectare  production_tonnes     yield_tph\n",
       "count   29909.000000       2.990900e+04  29909.000000\n",
       "mean    16453.945316       2.741738e+04      3.660036\n",
       "std     43729.565909       9.495561e+04      8.075567\n",
       "min         1.000000       0.000000e+00      0.000000\n",
       "25%        97.000000       1.150000e+02      0.455556\n",
       "50%       976.000000       1.300000e+03      0.940000\n",
       "75%      8464.000000       1.044100e+04      2.000000\n",
       "max    537610.000000       4.018000e+06    138.421053"
      ]
     },
     "execution_count": 144,
     "metadata": {},
     "output_type": "execute_result"
    }
   ],
   "source": [
    "crop_statistics_df.describe()"
   ]
  },
  {
   "cell_type": "markdown",
   "id": "cf33f361",
   "metadata": {},
   "source": [
    "#### Yearly growth in cropping area for each district"
   ]
  },
  {
   "cell_type": "code",
   "execution_count": 145,
   "id": "10d8d9e8",
   "metadata": {},
   "outputs": [],
   "source": [
    "crop_area_yearly = crop_statistics_df.groupby(by=['district','year'], as_index=False).agg({'area_hectare':'mean'})\n",
    "# crop_area_yearly.plot(x='district', y='area_hectare')\n",
    "# plt.show()"
   ]
  },
  {
   "cell_type": "code",
   "execution_count": 146,
   "id": "77889fe6",
   "metadata": {},
   "outputs": [
    {
     "data": {
      "text/plain": [
       "['ANUPPUR', 'RAIPUR', 'DURG', 'BILASPUR', 'SURGUJA']"
      ]
     },
     "execution_count": 146,
     "metadata": {},
     "output_type": "execute_result"
    }
   ],
   "source": [
    "for district in crop_area_yearly.district.unique():\n",
    "    crop_area_yearly.loc[crop_area_yearly['district']==district, 'area_yoy_growth'] = crop_area_yearly.loc[crop_area_yearly['district']==district, 'area_hectare'].pct_change(periods=1)\n",
    "\n",
    "crop_area_yearly = crop_area_yearly.replace([np.inf, -np.inf, np.NaN], 0)\n",
    "\n",
    "area_yoy_growth_df = crop_area_yearly.groupby('district', as_index=False).agg({'area_yoy_growth':'mean'})\n",
    "\n",
    "topdistrict_area_yoy_growth = area_yoy_growth_df.sort_values('area_yoy_growth', ascending=False).iloc[:5]['district'].tolist()\n",
    "topdistrict_area_yoy_growth"
   ]
  },
  {
   "cell_type": "markdown",
   "id": "30a076eb",
   "metadata": {},
   "source": [
    "#### Yearly growth in production for each district"
   ]
  },
  {
   "cell_type": "code",
   "execution_count": 147,
   "id": "021f0667",
   "metadata": {},
   "outputs": [],
   "source": [
    "production_yearly = crop_statistics_df.groupby(by=['district','year'], as_index=False).agg({'production_tonnes':'mean'})"
   ]
  },
  {
   "cell_type": "code",
   "execution_count": 148,
   "id": "38e3fbf6",
   "metadata": {
    "scrolled": true
   },
   "outputs": [
    {
     "data": {
      "text/plain": [
       "['DURG', 'RAIPUR', 'BILASPUR', 'DHAMTARI', 'BASTAR']"
      ]
     },
     "execution_count": 148,
     "metadata": {},
     "output_type": "execute_result"
    }
   ],
   "source": [
    "for district in production_yearly.district.unique():\n",
    "    production_yearly.loc[production_yearly['district']==district, 'production_yoy_growth'] = production_yearly.loc[production_yearly['district']==district, 'production_tonnes'].pct_change(periods=1)\n",
    "\n",
    "production_yearly = production_yearly.replace([np.inf, -np.inf, np.NaN], 0)\n",
    "\n",
    "production_yoy_growth_df = production_yearly.groupby('district', as_index=False).agg({'production_yoy_growth':'mean'})\n",
    "\n",
    "topdistrict_production_yoy_growth = production_yoy_growth_df.sort_values('production_yoy_growth', ascending=False).iloc[:5]['district'].tolist()\n",
    "topdistrict_production_yoy_growth"
   ]
  },
  {
   "cell_type": "markdown",
   "id": "6b107d01",
   "metadata": {},
   "source": [
    "#### Yearly growth in yield for each district"
   ]
  },
  {
   "cell_type": "code",
   "execution_count": 149,
   "id": "6ece3f5e",
   "metadata": {},
   "outputs": [],
   "source": [
    "yield_yearly = crop_statistics_df.groupby(by=['district','year'], as_index=False).agg({'yield_tph':'mean'})"
   ]
  },
  {
   "cell_type": "code",
   "execution_count": 150,
   "id": "3f6d57dc",
   "metadata": {},
   "outputs": [
    {
     "data": {
      "text/plain": [
       "['KOREA', 'BILASPUR', 'DURG', 'MAHASAMUND', 'SURGUJA']"
      ]
     },
     "execution_count": 150,
     "metadata": {},
     "output_type": "execute_result"
    }
   ],
   "source": [
    "for district in yield_yearly.district.unique():\n",
    "    yield_yearly.loc[yield_yearly['district']==district, 'yield_yoy_growth'] = yield_yearly.loc[yield_yearly['district']==district, 'yield_tph'].pct_change(periods=1)\n",
    "\n",
    "yield_yearly = yield_yearly.replace([np.inf, -np.inf, np.NaN], 0)\n",
    "\n",
    "yield_yoy_growth_df = yield_yearly.groupby('district', as_index=False).agg({'yield_yoy_growth':'mean'})\n",
    "\n",
    "topdistrict_yield_yoy_growth = yield_yoy_growth_df.sort_values('yield_yoy_growth', ascending=False).iloc[:5]['district'].tolist()\n",
    "topdistrict_yield_yoy_growth"
   ]
  },
  {
   "cell_type": "code",
   "execution_count": null,
   "id": "01173869",
   "metadata": {},
   "outputs": [],
   "source": []
  },
  {
   "cell_type": "markdown",
   "id": "356e9eb4",
   "metadata": {},
   "source": [
    "#### Crop Statistics"
   ]
  },
  {
   "cell_type": "code",
   "execution_count": 151,
   "id": "f31c526a",
   "metadata": {},
   "outputs": [
    {
     "data": {
      "text/plain": [
       "array(['Arhar/Tur', 'Bajra', 'Banana', 'Barley', 'Cashewnut',\n",
       "       'Castor seed', 'Coriander', 'Cowpea(Lobia)', 'Dry chillies',\n",
       "       'Garlic', 'Ginger', 'Gram', 'Groundnut', 'Horse-gram', 'Jowar',\n",
       "       'Khesari', 'Linseed', 'Maize', 'Masoor', 'Moong(Green Gram)',\n",
       "       'Niger seed', 'Onion', 'Other  Rabi pulses', 'Other Cereals',\n",
       "       'Other Kharif pulses', 'Peas & beans (Pulses)', 'Potato', 'Ragi',\n",
       "       'Rapeseed &Mustard', 'Rice', 'Safflower', 'Sannhamp', 'Sesamum',\n",
       "       'Small millets', 'Soyabean', 'Sugarcane', 'Sunflower',\n",
       "       'Sweet potato', 'Tobacco', 'Turmeric', 'Urad', 'Wheat'],\n",
       "      dtype=object)"
      ]
     },
     "execution_count": 151,
     "metadata": {},
     "output_type": "execute_result"
    }
   ],
   "source": [
    "crop_statistics_df['crop'].unique()"
   ]
  },
  {
   "cell_type": "code",
   "execution_count": null,
   "id": "ff62961b",
   "metadata": {},
   "outputs": [],
   "source": []
  },
  {
   "cell_type": "code",
   "execution_count": null,
   "id": "ce6e9518",
   "metadata": {},
   "outputs": [],
   "source": []
  },
  {
   "cell_type": "code",
   "execution_count": null,
   "id": "db5ba672",
   "metadata": {},
   "outputs": [],
   "source": []
  }
 ],
 "metadata": {
  "kernelspec": {
   "display_name": "Python 3 (ipykernel)",
   "language": "python",
   "name": "python3"
  },
  "language_info": {
   "codemirror_mode": {
    "name": "ipython",
    "version": 3
   },
   "file_extension": ".py",
   "mimetype": "text/x-python",
   "name": "python",
   "nbconvert_exporter": "python",
   "pygments_lexer": "ipython3",
   "version": "3.9.12"
  }
 },
 "nbformat": 4,
 "nbformat_minor": 5
}
